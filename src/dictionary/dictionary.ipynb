{
 "cells": [
  {
   "cell_type": "code",
   "execution_count": 1,
   "metadata": {
    "collapsed": true
   },
   "outputs": [
    {
     "name": "stdout",
     "output_type": "stream",
     "text": [
      "{'Wilkne Maia': 40, 'Lindeana Maia': 37, 'Maria Rita': 19}\n"
     ]
    }
   ],
   "source": [
    "d0 = {\n",
    "    \"Wilkne Maia\": 40,\n",
    "    \"Lindeana Maia\": 37,\n",
    "    \"Maria Rita\": 19,\n",
    "}\n",
    "\n",
    "print(d0)"
   ]
  },
  {
   "cell_type": "code",
   "execution_count": null,
   "metadata": {},
   "outputs": [],
   "source": []
  },
  {
   "cell_type": "code",
   "execution_count": 2,
   "metadata": {
    "collapsed": false
   },
   "outputs": [
    {
     "name": "stdout",
     "output_type": "stream",
     "text": [
      "{'sala1': {'Wilkne Maia': 40, 'Lindeana Maia': 37, 'Maria Rita': 19}, 'sala2': {'John Vitor': 16, 'Mariane Fernandes': 10}}\n"
     ]
    }
   ],
   "source": [
    "d1 = {\n",
    "    \"sala1\": {\n",
    "        \"Wilkne Maia\": 40,\n",
    "        \"Lindeana Maia\": 37,\n",
    "        \"Maria Rita\": 19,\n",
    "    },\n",
    "    \"sala2\": {\n",
    "        \"John Vitor\": 16,\n",
    "        \"Mariane Fernandes\": 10,\n",
    "    }\n",
    "}\n",
    "\n",
    "print(d1)"
   ]
  },
  {
   "cell_type": "code",
   "execution_count": 4,
   "metadata": {
    "collapsed": false
   },
   "outputs": [
    {
     "name": "stdout",
     "output_type": "stream",
     "text": [
      "{'sala1': {'Wilkne Maia': 40, 'Lindeana Maia': 37, 'Maria Rita': 19}, 'sala2': {'John Vitor': 16, 'Mariane Fernandes': 10}}\n"
     ]
    }
   ],
   "source": [
    "d2 = dict(d1.items())\n",
    "print(d2)"
   ]
  },
  {
   "cell_type": "code",
   "execution_count": 5,
   "metadata": {
    "collapsed": false
   },
   "outputs": [
    {
     "name": "stdout",
     "output_type": "stream",
     "text": [
      "{'Wilkne_Maia': 40, 'Lindeana_Maia': 37, 'Maria_Rita': 19}\n"
     ]
    }
   ],
   "source": [
    "d3 = dict(\n",
    "    Wilkne_Maia =  40,\n",
    "    Lindeana_Maia = 37,\n",
    "    Maria_Rita = 19\n",
    ")\n",
    "print(d3)"
   ]
  },
  {
   "cell_type": "code",
   "execution_count": 7,
   "metadata": {
    "collapsed": false
   },
   "outputs": [
    {
     "name": "stdout",
     "output_type": "stream",
     "text": [
      "{'sala1': {'WilkneMaia': 40, 'LindeanaMaia': 37, 'MariaRita': 19}, 'sala2': {'JohnVitor': 16, 'MarianeFernandes': 10}}\n"
     ]
    }
   ],
   "source": [
    "d4 = dict(\n",
    "    sala1 = dict(WilkneMaia = 40,LindeanaMaia = 37, MariaRita = 19),\n",
    "    sala2 = dict(JohnVitor = 16, MarianeFernandes = 10)\n",
    ")\n",
    "print(d4)"
   ]
  },
  {
   "cell_type": "code",
   "execution_count": 8,
   "metadata": {
    "collapsed": false
   },
   "outputs": [
    {
     "name": "stdout",
     "output_type": "stream",
     "text": [
      "{'Wilkne Maia': 40, 'Lindeana Maia': 37, 'Maria Rita': 19}\n"
     ]
    }
   ],
   "source": [
    "d5 = dict(((\"Wilkne Maia\", 40),(\"Lindeana Maia\", 37),(\"Maria Rita\", 19)))\n",
    "print(d5)"
   ]
  },
  {
   "attachments": {},
   "cell_type": "markdown",
   "metadata": {
    "collapsed": false
   },
   "source": []
  },
  {
   "cell_type": "code",
   "execution_count": 1,
   "metadata": {
    "collapsed": false
   },
   "outputs": [
    {
     "name": "stdout",
     "output_type": "stream",
     "text": [
      "{'sala1': {'Wilkne Maia': 40, 'Lindeana Maia': 37, 'Maria Rita': 19}, 'sala2': {'John Vitor': 16, 'Lindeana Maia': 37, 'Mariane Fernandes': 10}}\n"
     ]
    }
   ],
   "source": [
    "d6 = dict(\n",
    "    sala1 = dict(((\"Wilkne Maia\", 40),(\"Lindeana Maia\", 37), (\"Maria Rita\", 19))),\n",
    "    sala2 = dict(((\"John Vitor\", 16),(\"Lindeana Maia\", 37), (\"Mariane Fernandes\", 10))),\n",
    ")\n",
    "print(d6)"
   ]
  },
  {
   "cell_type": "code",
   "execution_count": 2,
   "metadata": {},
   "outputs": [
    {
     "name": "stdout",
     "output_type": "stream",
     "text": [
      "{'Wilkne Maia': 40, 'Lindeana Maia': 37, 'Maria Rita': 19}\n"
     ]
    }
   ],
   "source": [
    "d7 = {key: value for key, value in((\"Wilkne Maia\", 40),(\"Lindeana Maia\", 37), (\"Maria Rita\", 19))}\n",
    "print(d7)"
   ]
  },
  {
   "cell_type": "code",
   "execution_count": 4,
   "metadata": {},
   "outputs": [
    {
     "name": "stdout",
     "output_type": "stream",
     "text": [
      "{'sala1': {('Wilkne Maia', 40), ('Lindeana Maia', 37), ('Maria Rita', 19)}, 'sala2': {('Mariane Fernandes', 10), ('Lindeana Maia', 37), ('John Vitor', 16)}}\n"
     ]
    }
   ],
   "source": [
    "d8 = {\n",
    "        \"sala1\": {\n",
    "            (\"Wilkne Maia\", 40),(\"Lindeana Maia\", 37), (\"Maria Rita\", 19)\n",
    "        },\n",
    "        \"sala2\": {\n",
    "            (\"John Vitor\", 16),(\"Lindeana Maia\", 37), (\"Mariane Fernandes\", 10)\n",
    "        },\n",
    "    }\n",
    "\n",
    "print(d8)"
   ]
  },
  {
   "cell_type": "code",
   "execution_count": 6,
   "metadata": {},
   "outputs": [
    {
     "name": "stdout",
     "output_type": "stream",
     "text": [
      "{'Wilkne Maia': 40, 'Lindeana Maia': 37, 'Maria Rita': 19}\n"
     ]
    }
   ],
   "source": [
    "d9 = dict(zip((\"Wilkne Maia\", \"Lindeana Maia\", \"Maria Rita\"), (40, 37, 19)))\n",
    "print(d9)"
   ]
  },
  {
   "cell_type": "code",
   "execution_count": 7,
   "metadata": {},
   "outputs": [
    {
     "name": "stdout",
     "output_type": "stream",
     "text": [
      "{'sala1': {'Wilkne Maia': 40, 'Lindeana Maia': 37, 'Maria Rita': 19}, 'sala2': {'John Vitor': 16, 'Lindeana Maia': 37, 'Mariane Fernandes': 10}}\n"
     ]
    }
   ],
   "source": [
    "d10 = dict(\n",
    "        zip(\n",
    "            (\"sala1\", \"sala2\"),\n",
    "            (\n",
    "                dict(zip((\"Wilkne Maia\", \"Lindeana Maia\", \"Maria Rita\"), (40, 37, 19))),\n",
    "                dict(zip((\"John Vitor\", \"Lindeana Maia\", \"Mariane Fernandes\"), (16, 37, 10)))\n",
    "            )\n",
    "        )\n",
    "    )\n",
    "\n",
    "print(d10)"
   ]
  },
  {
   "cell_type": "code",
   "execution_count": 9,
   "metadata": {},
   "outputs": [
    {
     "name": "stdout",
     "output_type": "stream",
     "text": [
      "{'Wilkne Maia': 40, 'Lindeana Maia': 37, 'Maria Rita': 19}\n"
     ]
    }
   ],
   "source": [
    "d11 = dict(map( lambda k, v: (k, v), (\"Wilkne Maia\", \"Lindeana Maia\", \"Maria Rita\"), (40, 37, 19)))\n",
    "print(d11)"
   ]
  },
  {
   "cell_type": "code",
   "execution_count": 12,
   "metadata": {},
   "outputs": [],
   "source": [
    "exec(\"d12 = dict(Wilkne=40, Lindeana=37, Maria=19)\", locals())"
   ]
  },
  {
   "cell_type": "code",
   "execution_count": 15,
   "metadata": {},
   "outputs": [
    {
     "name": "stdout",
     "output_type": "stream",
     "text": [
      "{'Wilkne Maia': 40, 'Lindeana Maia': 37, 'Maria Rita': 19}\n"
     ]
    }
   ],
   "source": [
    "d14 = eval(\"\"\"{'Wilkne Maia': 40, 'Lindeana Maia': 37, 'Maria Rita': 19}\"\"\")\n",
    "print(d14)"
   ]
  },
  {
   "cell_type": "code",
   "execution_count": 16,
   "metadata": {},
   "outputs": [
    {
     "name": "stdout",
     "output_type": "stream",
     "text": [
      "{'Wilkne Maia': 40, 'Lindeana Maia': 37, 'Maria Rita': 19}\n"
     ]
    }
   ],
   "source": [
    "from ast import literal_eval\n",
    "\n",
    "d15 = literal_eval(\"\"\"{'Wilkne Maia': 40, 'Lindeana Maia': 37, 'Maria Rita': 19}\"\"\")\n",
    "print(d15)"
   ]
  },
  {
   "cell_type": "code",
   "execution_count": 17,
   "metadata": {},
   "outputs": [
    {
     "name": "stdout",
     "output_type": "stream",
     "text": [
      "{'Wilkne Maia': 40, 'Lindeana Maia': 37, 'Maria Rita': 19}\n"
     ]
    }
   ],
   "source": [
    "import json\n",
    "\n",
    "d16 = json.loads(r\"\"\"{\"Wilkne Maia\": 40, \"Lindeana Maia\": 37, \"Maria Rita\": 19}\"\"\")\n",
    "print(d16)"
   ]
  }
 ],
 "metadata": {
  "kernelspec": {
   "display_name": "Python 3",
   "language": "python",
   "name": "python3"
  },
  "language_info": {
   "codemirror_mode": {
    "name": "ipython",
    "version": 3
   },
   "file_extension": ".py",
   "mimetype": "text/x-python",
   "name": "python",
   "nbconvert_exporter": "python",
   "pygments_lexer": "ipython3",
   "version": "3.11.1"
  }
 },
 "nbformat": 4,
 "nbformat_minor": 0
}
