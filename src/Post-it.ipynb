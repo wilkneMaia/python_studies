{
 "cells": [
  {
   "cell_type": "code",
   "execution_count": 1,
   "metadata": {},
   "outputs": [],
   "source": [
    "import cv2\n",
    "import numpy as np\n",
    "from collections import Counter"
   ]
  },
  {
   "cell_type": "code",
   "execution_count": 3,
   "metadata": {},
   "outputs": [],
   "source": [
    "imagem = cv2.imread('Post_it.jpeg')\n",
    "\n",
    "imagem_hsv = cv2.cvtColor(imagem, cv2.COLOR_BGR2HSV)\n",
    "\n",
    "# Faixa de cores para o Post-it amarelo\n",
    "lower_yellow = np.array([20, 100, 100])\n",
    "upper_yellow = np.array([30, 255, 255])\n",
    "\n",
    "# Faixa de cores para o Post-it verde\n",
    "lower_green = np.array([40, 100, 100])\n",
    "upper_green = np.array([80, 255, 255])\n",
    "\n",
    "# Faixa de cores para o Post-it azul\n",
    "lower_blue = np.array([90, 100, 100])\n",
    "upper_blue = np.array([130, 255, 255])\n",
    "\n",
    "# Faixa de cores para o Post-it rosa\n",
    "lower_pink = np.array([150, 100, 100])\n",
    "upper_pink = np.array([170, 255, 255])\n"
   ]
  },
  {
   "cell_type": "code",
   "execution_count": 6,
   "metadata": {},
   "outputs": [],
   "source": [
    "mask_yellow = cv2.inRange(imagem_hsv, lower_yellow, upper_yellow)\n",
    "mask_green = cv2.inRange(imagem_hsv, lower_green, upper_green)\n",
    "mask_blue = cv2.inRange(imagem_hsv, lower_blue, upper_blue)\n",
    "mask_pink = cv2.inRange(imagem_hsv, lower_pink, upper_pink)"
   ]
  },
  {
   "cell_type": "code",
   "execution_count": 5,
   "metadata": {},
   "outputs": [],
   "source": [
    "def find_dominant_color(mask):\n",
    "    # Encontre a cor predominante na máscara\n",
    "    pixel_colors = mask.reshape(-1, mask.shape[-1])\n",
    "    counter = Counter(map(tuple, pixel_colors))\n",
    "    most_common_color = counter.most_common(1)[0][0]\n",
    "    return most_common_color\n",
    "\n",
    "dominant_color_yellow = find_dominant_color(mask_yellow)\n",
    "dominant_color_green = find_dominant_color(mask_green)\n",
    "dominant_color_blue = find_dominant_color(mask_blue)\n",
    "dominant_color_pink = find_dominant_color(mask_pink)\n"
   ]
  },
  {
   "cell_type": "code",
   "execution_count": null,
   "metadata": {},
   "outputs": [],
   "source": [
    "print('Cor predominante do Post-it amarelo:', dominant_color_yellow)\n",
    "print('Cor predominante do Post-it verde:', dominant_color_green)\n",
    "print('Cor predominante do Post-it azul:', dominant_color_blue)\n",
    "print('Cor predominante do Post-it rosa:', dominant_color_pink)\n"
   ]
  },
  {
   "cell_type": "code",
   "execution_count": 4,
   "metadata": {},
   "outputs": [
    {
     "ename": "error",
     "evalue": "OpenCV(4.8.1) /Users/xperience/GHA-OpenCV-Python/_work/opencv-python/opencv-python/opencv/modules/imgproc/src/color.cpp:182: error: (-215:Assertion failed) !_src.empty() in function 'cvtColor'\n",
     "output_type": "error",
     "traceback": [
      "\u001b[0;31m---------------------------------------------------------------------------\u001b[0m",
      "\u001b[0;31merror\u001b[0m                                     Traceback (most recent call last)",
      "\u001b[1;32m/Users/wilkne/Workspace/development/python_studies/src/Post-it.ipynb Célula 6\u001b[0m line \u001b[0;36m1\n\u001b[1;32m     <a href='vscode-notebook-cell:/Users/wilkne/Workspace/development/python_studies/src/Post-it.ipynb#W6sZmlsZQ%3D%3D?line=12'>13</a>\u001b[0m imagem \u001b[39m=\u001b[39m cv2\u001b[39m.\u001b[39mimread(\u001b[39m'\u001b[39m\u001b[39mPost_it2.jpg\u001b[39m\u001b[39m'\u001b[39m)  \u001b[39m# Substitua 'post_it.jpg' pelo caminho da sua imagem\u001b[39;00m\n\u001b[1;32m     <a href='vscode-notebook-cell:/Users/wilkne/Workspace/development/python_studies/src/Post-it.ipynb#W6sZmlsZQ%3D%3D?line=14'>15</a>\u001b[0m \u001b[39m# Converta a imagem para o espaço de cores HSV\u001b[39;00m\n\u001b[0;32m---> <a href='vscode-notebook-cell:/Users/wilkne/Workspace/development/python_studies/src/Post-it.ipynb#W6sZmlsZQ%3D%3D?line=15'>16</a>\u001b[0m imagem_hsv \u001b[39m=\u001b[39m cv2\u001b[39m.\u001b[39;49mcvtColor(imagem, cv2\u001b[39m.\u001b[39;49mCOLOR_BGR2HSV)\n\u001b[1;32m     <a href='vscode-notebook-cell:/Users/wilkne/Workspace/development/python_studies/src/Post-it.ipynb#W6sZmlsZQ%3D%3D?line=17'>18</a>\u001b[0m \u001b[39m# Defina a faixa de cores para o Post-it que deseja detectar (por exemplo, amarelo)\u001b[39;00m\n\u001b[1;32m     <a href='vscode-notebook-cell:/Users/wilkne/Workspace/development/python_studies/src/Post-it.ipynb#W6sZmlsZQ%3D%3D?line=18'>19</a>\u001b[0m lower_color \u001b[39m=\u001b[39m np\u001b[39m.\u001b[39marray([\u001b[39m20\u001b[39m, \u001b[39m100\u001b[39m, \u001b[39m100\u001b[39m])\n",
      "\u001b[0;31merror\u001b[0m: OpenCV(4.8.1) /Users/xperience/GHA-OpenCV-Python/_work/opencv-python/opencv-python/opencv/modules/imgproc/src/color.cpp:182: error: (-215:Assertion failed) !_src.empty() in function 'cvtColor'\n"
     ]
    }
   ],
   "source": [
    "import cv2\n",
    "import numpy as np\n",
    "from collections import Counter\n",
    "\n",
    "def find_dominant_color(mask):\n",
    "    # Encontre a cor predominante na máscara\n",
    "    pixel_colors = mask.reshape(-1, mask.shape[-1])\n",
    "    counter = Counter(map(tuple, pixel_colors))\n",
    "    most_common_color = counter.most_common(1)[0][0]\n",
    "    return most_common_color\n",
    "\n",
    "# Carregue a imagem do Post-it\n",
    "imagem = cv2.imread('Post_it2.jpg')  # Substitua 'post_it.jpg' pelo caminho da sua imagem\n",
    "\n",
    "# Converta a imagem para o espaço de cores HSV\n",
    "imagem_hsv = cv2.cvtColor(imagem, cv2.COLOR_BGR2HSV)\n",
    "\n",
    "# Defina a faixa de cores para o Post-it que deseja detectar (por exemplo, amarelo)\n",
    "lower_color = np.array([20, 100, 100])\n",
    "upper_color = np.array([30, 255, 255])\n",
    "\n",
    "# Aplique a segmentação de cores para identificar o Post-it\n",
    "mask = cv2.inRange(imagem_hsv, lower_color, upper_color)\n",
    "\n",
    "# Encontre a cor predominante na máscara\n",
    "dominant_color = find_dominant_color(mask)\n",
    "\n",
    "# Defina os nomes das cores para exibição\n",
    "color_names = {\n",
    "    (20, 255, 255): \"Amarelo\",\n",
    "    # Adicione outras cores e valores HSV aqui\n",
    "}\n",
    "\n",
    "# Verifique se a cor predominante corresponde a uma cor conhecida\n",
    "if tuple(dominant_color) in color_names:\n",
    "    print(\"A cor predominante do Post-it é:\", color_names[tuple(dominant_color)])\n",
    "else:\n",
    "    print(\"A cor predominante do Post-it não corresponde a uma cor conhecida.\")\n",
    "\n",
    "# Exiba a máscara e a imagem original com um retângulo em torno do Post-it detectado\n",
    "cv2.imshow('Máscara', mask)\n",
    "cv2.rectangle(imagem, (0, 0), (imagem.shape[1], imagem.shape[0]), (0, 0, 255), 2)\n",
    "cv2.imshow('Imagem Original', imagem)\n",
    "\n",
    "# Aguarde uma tecla e feche as janelas\n",
    "cv2.waitKey(0)\n",
    "cv2.destroyAllWindows()\n"
   ]
  }
 ],
 "metadata": {
  "kernelspec": {
   "display_name": ".venv",
   "language": "python",
   "name": "python3"
  },
  "language_info": {
   "codemirror_mode": {
    "name": "ipython",
    "version": 3
   },
   "file_extension": ".py",
   "mimetype": "text/x-python",
   "name": "python",
   "nbconvert_exporter": "python",
   "pygments_lexer": "ipython3",
   "version": "3.11.1"
  },
  "orig_nbformat": 4
 },
 "nbformat": 4,
 "nbformat_minor": 2
}
