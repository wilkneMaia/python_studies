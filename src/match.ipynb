{
 "cells": [
  {
   "cell_type": "code",
   "execution_count": 1,
   "metadata": {
    "collapsed": true,
    "ExecuteTime": {
     "end_time": "2023-07-26T01:46:34.734181Z",
     "start_time": "2023-07-26T01:46:34.726146Z"
    }
   },
   "outputs": [
    {
     "name": "stdout",
     "output_type": "stream",
     "text": [
      "is five\n"
     ]
    }
   ],
   "source": [
    "x = 5\n",
    "\n",
    "if x == 5:\n",
    "    print('is five')\n",
    "elif x == 6:\n",
    "    print('is six')\n",
    "else:\n",
    "    print('is not five or six')"
   ]
  },
  {
   "cell_type": "code",
   "execution_count": 2,
   "outputs": [
    {
     "name": "stdout",
     "output_type": "stream",
     "text": [
      "is five\n"
     ]
    }
   ],
   "source": [
    "match x:\n",
    "    case 5:\n",
    "        print('is five')\n",
    "    case 6:\n",
    "        print('is six')\n",
    "    case _:\n",
    "        print('is not five or six')"
   ],
   "metadata": {
    "collapsed": false,
    "ExecuteTime": {
     "end_time": "2023-07-26T01:47:01.051285Z",
     "start_time": "2023-07-26T01:47:01.034549Z"
    }
   }
  },
  {
   "cell_type": "code",
   "execution_count": 15,
   "outputs": [],
   "source": [
    "command = 'move left'\n",
    "command = command.split()"
   ],
   "metadata": {
    "collapsed": false,
    "ExecuteTime": {
     "end_time": "2023-07-26T02:04:29.846246Z",
     "start_time": "2023-07-26T02:04:29.841390Z"
    }
   }
  },
  {
   "cell_type": "code",
   "execution_count": 10,
   "outputs": [
    {
     "name": "stdout",
     "output_type": "stream",
     "text": [
      "Moving right or left\n"
     ]
    }
   ],
   "source": [
    "match command:\n",
    "    case ['move', 'right' | 'left']:\n",
    "        print(f'Moving right or left')\n",
    "    case ['move', 'up' | 'down']:\n",
    "        print(f'Moving up or down')"
   ],
   "metadata": {
    "collapsed": false,
    "ExecuteTime": {
     "end_time": "2023-07-26T01:55:37.705745Z",
     "start_time": "2023-07-26T01:55:37.684684Z"
    }
   }
  },
  {
   "cell_type": "code",
   "execution_count": 12,
   "outputs": [
    {
     "name": "stdout",
     "output_type": "stream",
     "text": [
      "Moving left\n"
     ]
    }
   ],
   "source": [
    "match command:\n",
    "    case ['move', 'right' | 'left' as direction]:\n",
    "        print(f'Moving {direction}')\n",
    "    case ['move', 'up' | 'down' as direction]:\n",
    "        print(f'Moving {direction}')\n",
    "    case _:\n",
    "        print('Command not recognized')"
   ],
   "metadata": {
    "collapsed": false,
    "ExecuteTime": {
     "end_time": "2023-07-26T02:01:39.737956Z",
     "start_time": "2023-07-26T02:01:39.733227Z"
    }
   }
  },
  {
   "cell_type": "code",
   "execution_count": 16,
   "outputs": [
    {
     "name": "stdout",
     "output_type": "stream",
     "text": [
      "Command not recognized\n"
     ]
    }
   ],
   "source": [
    "match command:\n",
    "    case ['move', 'right' | 'left' as direction]:\n",
    "        print(f'Moving {direction}')\n",
    "    case ['move', 'up' | 'down' as direction]:\n",
    "        print(f'Moving {direction}')\n",
    "    case ['move',_]:\n",
    "        print('Specify a direction after move')\n",
    "    case _:\n",
    "        print('Command not recognized')"
   ],
   "metadata": {
    "collapsed": false,
    "ExecuteTime": {
     "end_time": "2023-07-26T02:04:35.884374Z",
     "start_time": "2023-07-26T02:04:35.878302Z"
    }
   }
  },
  {
   "cell_type": "code",
   "execution_count": 18,
   "outputs": [
    {
     "name": "stdout",
     "output_type": "stream",
     "text": [
      "Specify a direction after move\n"
     ]
    }
   ],
   "source": [
    "command = 'move left'\n",
    "command = command.split()\n",
    "activate = False\n",
    "\n",
    "match command:\n",
    "    case ['move', 'right' | 'left' as direction] if activate:\n",
    "        print(f'Moving {direction}')\n",
    "    case ['move', 'up' | 'down' as direction]:\n",
    "        print(f'Moving {direction}')\n",
    "    case ['move',_]:\n",
    "        print('Specify a direction after move')\n",
    "    case _:\n",
    "        print('Command not recognized')"
   ],
   "metadata": {
    "collapsed": false,
    "ExecuteTime": {
     "end_time": "2023-07-26T02:07:10.030566Z",
     "start_time": "2023-07-26T02:07:10.026138Z"
    }
   }
  },
  {
   "cell_type": "code",
   "execution_count": 19,
   "outputs": [
    {
     "name": "stdout",
     "output_type": "stream",
     "text": [
      "Moving left\n"
     ]
    }
   ],
   "source": [
    "command = 'moveleft'\n",
    "command = command.split()\n",
    "activate = False\n",
    "\n",
    "match command:\n",
    "    case ['move', 'right' | 'left' as direction] if activate:\n",
    "        print(f'Moving {direction}')\n",
    "    case ['move', 'up' | 'down' as direction]:\n",
    "        print(f'Moving {direction}')\n",
    "    case ['move', 'left'] | ['moveleft']:\n",
    "        print(f'Moving left')\n",
    "    case ['move',_]:\n",
    "        print('Specify a direction after move')\n",
    "    case _:\n",
    "        print('Command not recognized')"
   ],
   "metadata": {
    "collapsed": false,
    "ExecuteTime": {
     "end_time": "2023-07-26T02:10:22.514307Z",
     "start_time": "2023-07-26T02:10:22.510747Z"
    }
   }
  },
  {
   "cell_type": "code",
   "execution_count": 8,
   "outputs": [
    {
     "name": "stdout",
     "output_type": "stream",
     "text": [
      "Moving left\n"
     ]
    }
   ],
   "source": [
    "match command:\n",
    "    case ['move', direction] if direction in ['up', 'down', 'left', 'right']:\n",
    "        print(f'Moving {direction}')\n",
    "    case ['say', message]:\n",
    "        print(f'Saying {message}')\n",
    "    case _:\n",
    "        print('Command not recognized')"
   ],
   "metadata": {
    "collapsed": false,
    "ExecuteTime": {
     "end_time": "2023-07-26T01:52:36.381441Z",
     "start_time": "2023-07-26T01:52:36.368834Z"
    }
   }
  }
 ],
 "metadata": {
  "kernelspec": {
   "display_name": "Python 3",
   "language": "python",
   "name": "python3"
  },
  "language_info": {
   "codemirror_mode": {
    "name": "ipython",
    "version": 2
   },
   "file_extension": ".py",
   "mimetype": "text/x-python",
   "name": "python",
   "nbconvert_exporter": "python",
   "pygments_lexer": "ipython2",
   "version": "2.7.6"
  }
 },
 "nbformat": 4,
 "nbformat_minor": 0
}
