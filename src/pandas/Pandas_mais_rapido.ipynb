{
 "cells": [
  {
   "cell_type": "code",
   "execution_count": 6,
   "metadata": {
    "collapsed": true
   },
   "outputs": [],
   "source": [
    "import pandas as pd\n",
    "import numexpr"
   ]
  },
  {
   "cell_type": "code",
   "execution_count": 11,
   "outputs": [],
   "source": [
    "df = pd.read_csv('https://raw.githubusercontent.com/pandas-dev/pandas/main/doc/data/titanic.csv')"
   ],
   "metadata": {
    "collapsed": false
   }
  },
  {
   "cell_type": "code",
   "execution_count": 12,
   "outputs": [],
   "source": [
    "df = pd.concat([df.copy() for i in range(1000)],ignore_index=True)"
   ],
   "metadata": {
    "collapsed": false
   }
  },
  {
   "cell_type": "code",
   "execution_count": 13,
   "outputs": [
    {
     "data": {
      "text/plain": "        PassengerId  Survived  Pclass  \\\n0                 1         0       3   \n1                 2         1       1   \n2                 3         1       3   \n3                 4         1       1   \n4                 5         0       3   \n...             ...       ...     ...   \n890995          887         0       2   \n890996          888         1       1   \n890997          889         0       3   \n890998          890         1       1   \n890999          891         0       3   \n\n                                                     Name     Sex   Age  \\\n0                                 Braund, Mr. Owen Harris    male  22.0   \n1       Cumings, Mrs. John Bradley (Florence Briggs Th...  female  38.0   \n2                                  Heikkinen, Miss. Laina  female  26.0   \n3            Futrelle, Mrs. Jacques Heath (Lily May Peel)  female  35.0   \n4                                Allen, Mr. William Henry    male  35.0   \n...                                                   ...     ...   ...   \n890995                              Montvila, Rev. Juozas    male  27.0   \n890996                       Graham, Miss. Margaret Edith  female  19.0   \n890997           Johnston, Miss. Catherine Helen \"Carrie\"  female   NaN   \n890998                              Behr, Mr. Karl Howell    male  26.0   \n890999                                Dooley, Mr. Patrick    male  32.0   \n\n        SibSp  Parch            Ticket     Fare Cabin Embarked  \n0           1      0         A/5 21171   7.2500   NaN        S  \n1           1      0          PC 17599  71.2833   C85        C  \n2           0      0  STON/O2. 3101282   7.9250   NaN        S  \n3           1      0            113803  53.1000  C123        S  \n4           0      0            373450   8.0500   NaN        S  \n...       ...    ...               ...      ...   ...      ...  \n890995      0      0            211536  13.0000   NaN        S  \n890996      0      0            112053  30.0000   B42        S  \n890997      1      2        W./C. 6607  23.4500   NaN        S  \n890998      0      0            111369  30.0000  C148        C  \n890999      0      0            370376   7.7500   NaN        Q  \n\n[891000 rows x 12 columns]",
      "text/html": "<div>\n<style scoped>\n    .dataframe tbody tr th:only-of-type {\n        vertical-align: middle;\n    }\n\n    .dataframe tbody tr th {\n        vertical-align: top;\n    }\n\n    .dataframe thead th {\n        text-align: right;\n    }\n</style>\n<table border=\"1\" class=\"dataframe\">\n  <thead>\n    <tr style=\"text-align: right;\">\n      <th></th>\n      <th>PassengerId</th>\n      <th>Survived</th>\n      <th>Pclass</th>\n      <th>Name</th>\n      <th>Sex</th>\n      <th>Age</th>\n      <th>SibSp</th>\n      <th>Parch</th>\n      <th>Ticket</th>\n      <th>Fare</th>\n      <th>Cabin</th>\n      <th>Embarked</th>\n    </tr>\n  </thead>\n  <tbody>\n    <tr>\n      <th>0</th>\n      <td>1</td>\n      <td>0</td>\n      <td>3</td>\n      <td>Braund, Mr. Owen Harris</td>\n      <td>male</td>\n      <td>22.0</td>\n      <td>1</td>\n      <td>0</td>\n      <td>A/5 21171</td>\n      <td>7.2500</td>\n      <td>NaN</td>\n      <td>S</td>\n    </tr>\n    <tr>\n      <th>1</th>\n      <td>2</td>\n      <td>1</td>\n      <td>1</td>\n      <td>Cumings, Mrs. John Bradley (Florence Briggs Th...</td>\n      <td>female</td>\n      <td>38.0</td>\n      <td>1</td>\n      <td>0</td>\n      <td>PC 17599</td>\n      <td>71.2833</td>\n      <td>C85</td>\n      <td>C</td>\n    </tr>\n    <tr>\n      <th>2</th>\n      <td>3</td>\n      <td>1</td>\n      <td>3</td>\n      <td>Heikkinen, Miss. Laina</td>\n      <td>female</td>\n      <td>26.0</td>\n      <td>0</td>\n      <td>0</td>\n      <td>STON/O2. 3101282</td>\n      <td>7.9250</td>\n      <td>NaN</td>\n      <td>S</td>\n    </tr>\n    <tr>\n      <th>3</th>\n      <td>4</td>\n      <td>1</td>\n      <td>1</td>\n      <td>Futrelle, Mrs. Jacques Heath (Lily May Peel)</td>\n      <td>female</td>\n      <td>35.0</td>\n      <td>1</td>\n      <td>0</td>\n      <td>113803</td>\n      <td>53.1000</td>\n      <td>C123</td>\n      <td>S</td>\n    </tr>\n    <tr>\n      <th>4</th>\n      <td>5</td>\n      <td>0</td>\n      <td>3</td>\n      <td>Allen, Mr. William Henry</td>\n      <td>male</td>\n      <td>35.0</td>\n      <td>0</td>\n      <td>0</td>\n      <td>373450</td>\n      <td>8.0500</td>\n      <td>NaN</td>\n      <td>S</td>\n    </tr>\n    <tr>\n      <th>...</th>\n      <td>...</td>\n      <td>...</td>\n      <td>...</td>\n      <td>...</td>\n      <td>...</td>\n      <td>...</td>\n      <td>...</td>\n      <td>...</td>\n      <td>...</td>\n      <td>...</td>\n      <td>...</td>\n      <td>...</td>\n    </tr>\n    <tr>\n      <th>890995</th>\n      <td>887</td>\n      <td>0</td>\n      <td>2</td>\n      <td>Montvila, Rev. Juozas</td>\n      <td>male</td>\n      <td>27.0</td>\n      <td>0</td>\n      <td>0</td>\n      <td>211536</td>\n      <td>13.0000</td>\n      <td>NaN</td>\n      <td>S</td>\n    </tr>\n    <tr>\n      <th>890996</th>\n      <td>888</td>\n      <td>1</td>\n      <td>1</td>\n      <td>Graham, Miss. Margaret Edith</td>\n      <td>female</td>\n      <td>19.0</td>\n      <td>0</td>\n      <td>0</td>\n      <td>112053</td>\n      <td>30.0000</td>\n      <td>B42</td>\n      <td>S</td>\n    </tr>\n    <tr>\n      <th>890997</th>\n      <td>889</td>\n      <td>0</td>\n      <td>3</td>\n      <td>Johnston, Miss. Catherine Helen \"Carrie\"</td>\n      <td>female</td>\n      <td>NaN</td>\n      <td>1</td>\n      <td>2</td>\n      <td>W./C. 6607</td>\n      <td>23.4500</td>\n      <td>NaN</td>\n      <td>S</td>\n    </tr>\n    <tr>\n      <th>890998</th>\n      <td>890</td>\n      <td>1</td>\n      <td>1</td>\n      <td>Behr, Mr. Karl Howell</td>\n      <td>male</td>\n      <td>26.0</td>\n      <td>0</td>\n      <td>0</td>\n      <td>111369</td>\n      <td>30.0000</td>\n      <td>C148</td>\n      <td>C</td>\n    </tr>\n    <tr>\n      <th>890999</th>\n      <td>891</td>\n      <td>0</td>\n      <td>3</td>\n      <td>Dooley, Mr. Patrick</td>\n      <td>male</td>\n      <td>32.0</td>\n      <td>0</td>\n      <td>0</td>\n      <td>370376</td>\n      <td>7.7500</td>\n      <td>NaN</td>\n      <td>Q</td>\n    </tr>\n  </tbody>\n</table>\n<p>891000 rows × 12 columns</p>\n</div>"
     },
     "execution_count": 13,
     "metadata": {},
     "output_type": "execute_result"
    }
   ],
   "source": [
    "df"
   ],
   "metadata": {
    "collapsed": false
   }
  },
  {
   "cell_type": "code",
   "execution_count": 14,
   "outputs": [],
   "source": [
    "df = df.sample(len(df),)"
   ],
   "metadata": {
    "collapsed": false
   }
  },
  {
   "cell_type": "code",
   "execution_count": 15,
   "outputs": [
    {
     "name": "stdout",
     "output_type": "stream",
     "text": [
      "        PassengerId  Survived  Pclass  \\\n",
      "636266           93         0       1   \n",
      "393862           41         0       3   \n",
      "46406            75         1       3   \n",
      "48674           561         0       3   \n",
      "405636          232         0       3   \n",
      "...             ...       ...     ...   \n",
      "318138           52         0       3   \n",
      "666605          138         0       1   \n",
      "232134          475         0       3   \n",
      "161342           72         0       3   \n",
      "876401          549         0       3   \n",
      "\n",
      "                                                  Name     Sex   Age  SibSp  \\\n",
      "636266                     Chaffee, Mr. Herbert Fuller    male  46.0      1   \n",
      "393862  Ahlin, Mrs. Johan (Johanna Persdotter Larsson)  female  40.0      1   \n",
      "46406                                    Bing, Mr. Lee    male  32.0      0   \n",
      "48674                         Morrow, Mr. Thomas Rowan    male   NaN      0   \n",
      "405636                        Larsson, Mr. Bengt Edvin    male  29.0      0   \n",
      "...                                                ...     ...   ...    ...   \n",
      "318138                    Nosworthy, Mr. Richard Cater    male  21.0      0   \n",
      "666605                     Futrelle, Mr. Jacques Heath    male  37.0      1   \n",
      "232134                     Strandberg, Miss. Ida Sofia  female  22.0      0   \n",
      "161342                      Goodwin, Miss. Lillian Amy  female  16.0      5   \n",
      "876401                       Goldsmith, Mr. Frank John    male  33.0      1   \n",
      "\n",
      "        Parch       Ticket     Fare Cabin Embarked  \n",
      "636266      0  W.E.P. 5734  61.1750   E31        S  \n",
      "393862      0         7546   9.4750   NaN        S  \n",
      "46406       0         1601  56.4958   NaN        S  \n",
      "48674       0       372622   7.7500   NaN        Q  \n",
      "405636      0       347067   7.7750   NaN        S  \n",
      "...       ...          ...      ...   ...      ...  \n",
      "318138      0   A/4. 39886   7.8000   NaN        S  \n",
      "666605      0       113803  53.1000  C123        S  \n",
      "232134      0         7553   9.8375   NaN        S  \n",
      "161342      2      CA 2144  46.9000   NaN        S  \n",
      "876401      1       363291  20.5250   NaN        S  \n",
      "\n",
      "[891000 rows x 12 columns]\n"
     ]
    }
   ],
   "source": [
    "print(df)"
   ],
   "metadata": {
    "collapsed": false
   }
  },
  {
   "cell_type": "code",
   "execution_count": 16,
   "outputs": [
    {
     "name": "stdout",
     "output_type": "stream",
     "text": [
      "2.99 ms ± 85.7 µs per loop (mean ± std. dev. of 7 runs, 100 loops each)\n"
     ]
    }
   ],
   "source": [
    "pq=((df['PassengerId']/2.21 >= 150)\n",
    "&(df['Fare']*10.4431 <= 80)\n",
    "&(df['Survived']*134.41>0))\n",
    "%timeit pq=((df['PassengerId']/2.21 >= 150) &(df['Fare']*10.4431 <= 80) &(df['Survived']*134.41>0))"
   ],
   "metadata": {
    "collapsed": false
   }
  },
  {
   "cell_type": "code",
   "execution_count": 17,
   "outputs": [
    {
     "name": "stdout",
     "output_type": "stream",
     "text": [
      "1.29 ms ± 28.5 µs per loop (mean ± std. dev. of 7 runs, 1,000 loops each)\n"
     ]
    }
   ],
   "source": [
    "a,b,c=(df['PassengerId'].__array__(),\n",
    "       df['Fare'].__array__() ,\n",
    "       df['Survived'].__array__())\n",
    "numexpr.evaluate('(a/2.21 >= 150) & (b*10.4431 <= 80) & (c*134.41>0)')\n",
    "%timeit numexpr.evaluate('(a/2.21 >= 150) & (b*10.4431 <= 80) & (c*134.41>0)')"
   ],
   "metadata": {
    "collapsed": false
   }
  }
 ],
 "metadata": {
  "kernelspec": {
   "display_name": "Python 3",
   "language": "python",
   "name": "python3"
  },
  "language_info": {
   "codemirror_mode": {
    "name": "ipython",
    "version": 2
   },
   "file_extension": ".py",
   "mimetype": "text/x-python",
   "name": "python",
   "nbconvert_exporter": "python",
   "pygments_lexer": "ipython2",
   "version": "2.7.6"
  }
 },
 "nbformat": 4,
 "nbformat_minor": 0
}
