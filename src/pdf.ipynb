{
 "cells": [
  {
   "cell_type": "code",
   "execution_count": 4,
   "metadata": {},
   "outputs": [],
   "source": [
    "import PyPDF3\n",
    "import re\n",
    "import pandas as pd\n",
    "\n",
    "pdf_path = '01-2023_b.pdf'"
   ]
  },
  {
   "cell_type": "code",
   "execution_count": 16,
   "metadata": {},
   "outputs": [],
   "source": [
    "from io import StringIO\n",
    "from pdfminer.converter import TextConverter\n",
    "from pdfminer.layout import LAParams\n",
    "from pdfminer.pdfdocument import PDFDocument\n",
    "from pdfminer.pdfinterp import PDFResourceManager, PDFPageInterpreter\n",
    "from pdfminer.pdfpage import PDFPage\n",
    "from pdfminer.pdfparser import PDFParser"
   ]
  },
  {
   "cell_type": "code",
   "execution_count": 18,
   "metadata": {},
   "outputs": [
    {
     "name": "stdout",
     "output_type": "stream",
     "text": [
      "Empty DataFrame\n",
      "Columns: [Item, Quantity, Unit Price, Value, PIS/COFINS, ICMS Base, ICMS Rate, ICMS Value, Unit Rate]\n",
      "Index: []\n"
     ]
    }
   ],
   "source": [
    "def extract_text_from_pdf(pdf_path):\n",
    "    output_string = StringIO()\n",
    "    with open(pdf_path, 'rb') as in_file:\n",
    "        parser = PDFParser(in_file)\n",
    "        doc = PDFDocument(parser)\n",
    "        rsrcmgr = PDFResourceManager()\n",
    "        device = TextConverter(rsrcmgr, output_string, laparams=LAParams())\n",
    "        interpreter = PDFPageInterpreter(rsrcmgr, device)\n",
    "        for page in PDFPage.create_pages(doc):\n",
    "            interpreter.process_page(page)\n",
    "    return output_string.getvalue()\n",
    "\n",
    "pdf_path = '01-2023_b.pdf'\n",
    "text = extract_text_from_pdf(pdf_path)\n",
    "print(text)\n"
   ]
  },
  {
   "cell_type": "code",
   "execution_count": 20,
   "metadata": {},
   "outputs": [
    {
     "name": "stdout",
     "output_type": "stream",
     "text": [
      "Empty DataFrame\n",
      "Columns: [Quantity]\n",
      "Index: []\n"
     ]
    }
   ],
   "source": [
    "import re\n",
    "import pandas as pd\n",
    "from io import StringIO\n",
    "from pdfminer.converter import TextConverter\n",
    "from pdfminer.layout import LAParams\n",
    "from pdfminer.pdfdocument import PDFDocument\n",
    "from pdfminer.pdfinterp import PDFResourceManager, PDFPageInterpreter\n",
    "from pdfminer.pdfpage import PDFPage\n",
    "from pdfminer.pdfparser import PDFParser\n",
    "\n",
    "def extract_text_from_pdf(pdf_path):\n",
    "    output_string = StringIO()\n",
    "    with open(pdf_path, 'rb') as in_file:\n",
    "        parser = PDFParser(in_file)\n",
    "        doc = PDFDocument(parser)\n",
    "        rsrcmgr = PDFResourceManager()\n",
    "        device = TextConverter(rsrcmgr, output_string, laparams=LAParams())\n",
    "        interpreter = PDFPageInterpreter(rsrcmgr, device)\n",
    "        for page in PDFPage.create_pages(doc):\n",
    "            interpreter.process_page(page)\n",
    "    return output_string.getvalue()\n",
    "\n",
    "def extract_bill_data(pdf_path):\n",
    "    text = extract_text_from_pdf(pdf_path)\n",
    "    data = []\n",
    "    # Use a regular expression to search for the specified information\n",
    "    pattern = r'(\\w[\\w\\s]+)\\s+(\\d+)\\s+([\\d,.-]+)\\s+([\\d,.-]+)\\s+([\\d,.-]+)\\s+([\\d,.-]+)%\\s+([\\d,.-]+)\\s+([\\d,.-]+)'\n",
    "    matches = re.findall(pattern, text)\n",
    "    for match in matches:\n",
    "        item = match[0].strip()\n",
    "        quantity = int(match[1])\n",
    "        unit_price = float(match[2].replace(',', '.'))\n",
    "        value = float(match[3].replace(',', '.'))\n",
    "        pis_cofins = float(match[4].replace(',', '.'))\n",
    "        icms_base = float(match[5].replace(',', '.'))\n",
    "        icms_rate = float(match[6].replace('%', '')) / 100\n",
    "        icms_value = float(match[7].replace(',', '.'))\n",
    "        unit_rate = float(match[8].replace(',', '.'))\n",
    "        data.append([item, quantity, unit_price, value, pis_cofins, icms_base, icms_rate, icms_value, unit_rate])\n",
    "    \n",
    "    # Create a DataFrame from the extracted data\n",
    "    df = pd.DataFrame(data, columns=['Item', 'Quantity', 'Unit Price', 'Value', 'PIS/COFINS', 'ICMS Base', 'ICMS Rate', 'ICMS Value', 'Unit Rate'])\n",
    "    return df\n",
    "\n",
    "pdf_path = '01-2023_b.pdf'\n",
    "df = extract_bill_data(pdf_path)\n",
    "print(df)\n"
   ]
  }
 ],
 "metadata": {
  "kernelspec": {
   "display_name": ".venv",
   "language": "python",
   "name": "python3"
  },
  "language_info": {
   "codemirror_mode": {
    "name": "ipython",
    "version": 3
   },
   "file_extension": ".py",
   "mimetype": "text/x-python",
   "name": "python",
   "nbconvert_exporter": "python",
   "pygments_lexer": "ipython3",
   "version": "3.11.1"
  },
  "orig_nbformat": 4
 },
 "nbformat": 4,
 "nbformat_minor": 2
}
