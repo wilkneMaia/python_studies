{
 "cells": [
  {
   "attachments": {},
   "cell_type": "markdown",
   "metadata": {},
   "source": [
    "# Criptografando PDFs ComPdfWriter.encrypt()"
   ]
  },
  {
   "cell_type": "code",
   "execution_count": 1,
   "metadata": {},
   "outputs": [],
   "source": [
    "from pathlib import Path\n",
    "from pypdf import PdfReader, PdfWriter"
   ]
  },
  {
   "cell_type": "code",
   "execution_count": 2,
   "metadata": {},
   "outputs": [
    {
     "name": "stderr",
     "output_type": "stream",
     "text": [
      "/Users/wilkne/Workspace/development/python_studies/.venv/lib/python3.11/site-packages/pypdf/_writer.py:1062: UserWarning: pypdf only implements RC4 encryption so far. The RC4 algorithm is insecure. Either use a library that supports AES for encryption or put the PDF in an encrypted container, for example an encrypted ZIP file.\n",
      "  warnings.warn(\n"
     ]
    }
   ],
   "source": [
    "pdf_path = (\n",
    "    Path.cwd().parent\n",
    "    / \"practice_files\"\n",
    "    / \"newsletter.pdf\"\n",
    ")\n",
    "\n",
    "pdf_reader = PdfReader(pdf_path)\n",
    "pdf_writer = PdfWriter()\n",
    "pdf_writer.append_pages_from_reader(pdf_reader)\n",
    "\n",
    "pdf_writer.encrypt(user_password=\"SuperSecret\")\n",
    "\n",
    "output_path = Path.cwd() / \"newsletter_protected.pdf\"\n",
    "pdf_writer.write(output_path)\n",
    "\n",
    "user_pwd = \"SuperSecret\"\n",
    "owner_pwd = \"ReallySuperSecret\"\n",
    "pdf_writer.encrypt(user_password=user_pwd, owner_password=owner_pwd)\n"
   ]
  },
  {
   "attachments": {},
   "cell_type": "markdown",
   "metadata": {},
   "source": [
    "# Descriptografando PDFs ComPdfReader.decrypt()"
   ]
  },
  {
   "cell_type": "code",
   "execution_count": 9,
   "metadata": {},
   "outputs": [
    {
     "name": "stdout",
     "output_type": "stream",
     "text": [
      "2\n",
      "{'/Contents': IndirectObject(5, 0, 4697095120), '/CropBox': [0, 0, 612, 792], '/MediaBox': [0, 0, 612, 792], '/Resources': IndirectObject(6, 0, 4697095120), '/Rotate': 0, '/Type': '/Page', '/Parent': IndirectObject(1, 0, 4697095120)}\n"
     ]
    }
   ],
   "source": [
    "pdf_path = Path.cwd() / \"newsletter_protected.pdf\"\n",
    "\n",
    "pdf_reader = PdfReader(pdf_path)\n",
    "\n",
    "# print(pdf_reader.pages[0])  # Raises FileNotDecryptedError\n",
    "\n",
    "print(pdf_reader.decrypt(password=\"SuperSecret\"))\n",
    "\n",
    "print(pdf_reader.pages[0])"
   ]
  }
 ],
 "metadata": {
  "kernelspec": {
   "display_name": ".venv",
   "language": "python",
   "name": "python3"
  },
  "language_info": {
   "codemirror_mode": {
    "name": "ipython",
    "version": 3
   },
   "file_extension": ".py",
   "mimetype": "text/x-python",
   "name": "python",
   "nbconvert_exporter": "python",
   "pygments_lexer": "ipython3",
   "version": "3.11.1"
  },
  "orig_nbformat": 4
 },
 "nbformat": 4,
 "nbformat_minor": 2
}
