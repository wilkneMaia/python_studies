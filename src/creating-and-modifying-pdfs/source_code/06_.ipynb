{
 "cells": [
  {
   "cell_type": "markdown",
   "metadata": {
    "collapsed": false
   },
   "source": [
    "# Criando Arquivos PDF com Python e ReportLab"
   ]
  },
  {
   "cell_type": "code",
   "execution_count": 3,
   "metadata": {
    "collapsed": false
   },
   "outputs": [],
   "source": [
    "from reportlab.pdfgen.canvas import Canvas\n",
    "from reportlab.lib.units import cm, inch"
   ]
  },
  {
   "cell_type": "code",
   "execution_count": 2,
   "outputs": [],
   "source": [
    "canvas = Canvas(\"hello.pdf\")\n",
    "canvas.drawString(72, 72, \"Hello, World!\")\n",
    "canvas.save()"
   ],
   "metadata": {
    "collapsed": false
   }
  },
  {
   "cell_type": "code",
   "execution_count": 4,
   "outputs": [
    {
     "name": "stdout",
     "output_type": "stream",
     "text": [
      "28.346456692913385\n",
      "72.0\n"
     ]
    }
   ],
   "source": [
    "print(cm)\n",
    "print(inch)"
   ],
   "metadata": {
    "collapsed": false
   }
  },
  {
   "cell_type": "code",
   "execution_count": 5,
   "outputs": [
    {
     "name": "stdout",
     "output_type": "stream",
     "text": [
      "(612.0, 792.0)\n"
     ]
    }
   ],
   "source": [
    "canvas = Canvas(\"hello.pdf\", pagesize=(8.5 * inch, 11 * inch))\n",
    "\n",
    "from reportlab.lib.pagesizes import LETTER  # noqa\n",
    "\n",
    "canvas = Canvas(\"hello.pdf\", pagesize=LETTER)\n",
    "print(LETTER)"
   ],
   "metadata": {
    "collapsed": false
   }
  },
  {
   "cell_type": "code",
   "execution_count": 7,
   "outputs": [],
   "source": [
    "canvas = Canvas(\"font-example.pdf\", pagesize=LETTER)\n",
    "canvas.setFont(\"Times-Roman\", 18)\n",
    "canvas.drawString(1 * inch, 10 * inch, \"Times New Roman (18 pt)\")\n",
    "canvas.save()"
   ],
   "metadata": {
    "collapsed": false
   }
  },
  {
   "cell_type": "code",
   "execution_count": 9,
   "outputs": [],
   "source": [
    "# The code below creates a PDF with blue text\n",
    "from reportlab.lib.colors import blue\n",
    "from reportlab.lib.pagesizes import LETTER\n",
    "from reportlab.lib.units import inch\n",
    "from reportlab.pdfgen.canvas import Canvas\n",
    "\n",
    "canvas = Canvas(\"font-colors.pdf\", pagesize=LETTER)\n",
    "\n",
    "# Set font to Times New Roman with 12-point size\n",
    "canvas.setFont(\"Times-Roman\", 12)\n",
    "\n",
    "# Draw blue text one inch from the left and ten\n",
    "# inches from the bottom\n",
    "canvas.setFillColor(blue)\n",
    "canvas.drawString(1 * inch, 10 * inch, \"Blue text\")\n",
    "\n",
    "# Save the PDF file\n",
    "canvas.save()"
   ],
   "metadata": {
    "collapsed": false
   }
  }
 ],
 "metadata": {
  "kernelspec": {
   "display_name": "Python 3",
   "language": "python",
   "name": "python3"
  },
  "language_info": {
   "codemirror_mode": {
    "name": "ipython",
    "version": 3
   },
   "file_extension": ".py",
   "mimetype": "text/x-python",
   "name": "python",
   "nbconvert_exporter": "python",
   "pygments_lexer": "ipython3",
   "version": "3.11.1"
  }
 },
 "nbformat": 4,
 "nbformat_minor": 0
}
