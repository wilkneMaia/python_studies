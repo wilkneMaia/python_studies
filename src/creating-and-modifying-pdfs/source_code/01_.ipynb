{
 "cells": [
  {
   "attachments": {},
   "cell_type": "markdown",
   "metadata": {},
   "source": [
    "# Extraindo Texto De Arquivos PDF Compypdf\n",
    "\n",
    "link : https://realpython.com/creating-modifying-pdf/"
   ]
  },
  {
   "attachments": {},
   "cell_type": "markdown",
   "metadata": {},
   "source": [
    "Com este comando, você baixa e instala a versão mais recente do pypdf a partir do índice de pacotes Python (PyPI).\n",
    "\n",
    "$ python -m pip install pypdf"
   ]
  },
  {
   "attachments": {},
   "cell_type": "markdown",
   "metadata": {},
   "source": [
    "## Lendo Arquivos PDF ComPdfReader"
   ]
  },
  {
   "cell_type": "code",
   "execution_count": 3,
   "metadata": {},
   "outputs": [
    {
     "data": {
      "text/plain": [
       "234"
      ]
     },
     "execution_count": 3,
     "metadata": {},
     "output_type": "execute_result"
    }
   ],
   "source": [
    "from pathlib import Path\n",
    "from pypdf import PdfReader\n",
    "\n",
    "pdf_path = (\n",
    "    Path.cwd().parent\n",
    "    / \"practice_files\"\n",
    "    / \"Pride_and_Prejudice.pdf\"\n",
    ")\n",
    "\n",
    "pdf_reader = PdfReader(pdf_path)"
   ]
  },
  {
   "cell_type": "code",
   "execution_count": 11,
   "metadata": {},
   "outputs": [
    {
     "name": "stdout",
     "output_type": "stream",
     "text": [
      "234\n"
     ]
    }
   ],
   "source": [
    "# Obter o número de páginas contidas no arquivo PDF, você pode usar a função len() interna como no código abaixo:\n",
    "print(len(pdf_reader.pages))"
   ]
  },
  {
   "cell_type": "code",
   "execution_count": 12,
   "metadata": {},
   "outputs": [
    {
     "name": "stdout",
     "output_type": "stream",
     "text": [
      "{'/Title': 'Pride and Prejudice, by Jane Austen', '/Author': 'Chuck', '/Creator': 'Microsoft® Office Word 2007', '/CreationDate': 'D:20110812174208', '/ModDate': 'D:20110812174208', '/Producer': 'Microsoft® Office Word 2007'}\n"
     ]
    }
   ],
   "source": [
    "# Você também pode acessar algumas informações do documento usando o atributo .metadata:\n",
    "print(pdf_reader.metadata)"
   ]
  },
  {
   "cell_type": "code",
   "execution_count": 13,
   "metadata": {},
   "outputs": [
    {
     "name": "stdout",
     "output_type": "stream",
     "text": [
      "Pride and Prejudice, by Jane Austen\n"
     ]
    }
   ],
   "source": [
    "# O objeto armazenado em .metadata parece um dicionário, mas não é a mesma coisa. \n",
    "# Você pode acessar cada item em .metadata como um atributo. Por exemplo, para obter o título, use o atributo .title:\n",
    "print(pdf_reader.metadata.title)"
   ]
  },
  {
   "attachments": {},
   "cell_type": "markdown",
   "metadata": {},
   "source": [
    "## Extraindo Texto de uma Página"
   ]
  },
  {
   "attachments": {},
   "cell_type": "markdown",
   "metadata": {},
   "source": []
  },
  {
   "cell_type": "code",
   "execution_count": 8,
   "metadata": {},
   "outputs": [
    {
     "data": {
      "text/plain": [
       "pypdf._page.PageObject"
      ]
     },
     "execution_count": 8,
     "metadata": {},
     "output_type": "execute_result"
    }
   ],
   "source": [
    "first_page = pdf_reader.pages[0]"
   ]
  },
  {
   "cell_type": "code",
   "execution_count": 14,
   "metadata": {},
   "outputs": [
    {
     "name": "stdout",
     "output_type": "stream",
     "text": [
      "<class 'pypdf._page.PageObject'>\n"
     ]
    }
   ],
   "source": [
    "print(type(first_page))"
   ]
  },
  {
   "cell_type": "code",
   "execution_count": null,
   "metadata": {},
   "outputs": [],
   "source": [
    "print(first_page.extract_text())"
   ]
  },
  {
   "cell_type": "code",
   "execution_count": null,
   "metadata": {},
   "outputs": [],
   "source": [
    "for page in pdf_reader.pages:\n",
    "    print(page.extract_text())"
   ]
  },
  {
   "attachments": {},
   "cell_type": "markdown",
   "metadata": {},
   "source": [
    "# Juntando Tudo |   Putting It All Together\n",
    "\n",
    "### Quando você salva e executa o programa, ele cria um novo arquivo no seu diretório pessoal chamado Pride_and_Prejudice.txt contendo o texto completo do documento Pride_and_Prejudice.pdf. Abra e confira! Abrimos."
   ]
  },
  {
   "cell_type": "code",
   "execution_count": 17,
   "metadata": {},
   "outputs": [
    {
     "data": {
      "text/plain": [
       "716078"
      ]
     },
     "execution_count": 17,
     "metadata": {},
     "output_type": "execute_result"
    }
   ],
   "source": [
    "# save_to_txt.py\n",
    "\n",
    "# Importa o Path's pathlib e PdfReader.\n",
    "from pathlib import Path\n",
    "from pypdf import PdfReader\n",
    "\n",
    "# Defina um objeto Path contendo o caminho para o seu arquivo PDF de destino.\n",
    "pdf_path = (\n",
    "    Path.cwd().parent\n",
    "    / \"practice_files\"\n",
    "    / \"Pride_and_Prejudice.pdf\"\n",
    ")\n",
    "\n",
    "# Atribui uma nova instância do PdfReader à variável pdf_reader.\n",
    "pdf_reader = PdfReader(pdf_path)\n",
    "\n",
    "# Cria um objeto Path que aponta para o arquivo .txt de saída.\n",
    "text_file = Path.cwd() / \"Pride_and_Prejudice.txt\"\n",
    "\n",
    "''' criam uma lista onde você armazenará o conteúdo que salvará no arquivo .txt.\n",
    " Inicialmente, esta lista contém apenas o título do PDF e o número de páginas.'''\n",
    "content = [\n",
    "    f'{pdf_reader.metadata.title}',\n",
    "    f'Number of pages: {len(pdf_reader.pages)}'\n",
    "]\n",
    "\n",
    "''' Defina um loop for que itera sobre as páginas PDF, extrai seu conteúdo como\n",
    "strings e anexa essas strings ao conteúdo.'''\n",
    "for page in pdf_reader.pages:\n",
    "    content.append(page.extract_text())\n",
    "\n",
    "''' Concatena todas as strings no conteúdo usando o método .join() e um caractere\n",
    "e nova linha (\\n) como separador. Finalmente, ele escreve o texto concatenado\n",
    "em txt_file aproveitando .write_text() do Path.'''\n",
    "text_file.write_text('\\n'.join(content))"
   ]
  }
 ],
 "metadata": {
  "kernelspec": {
   "display_name": ".venv",
   "language": "python",
   "name": "python3"
  },
  "language_info": {
   "codemirror_mode": {
    "name": "ipython",
    "version": 3
   },
   "file_extension": ".py",
   "mimetype": "text/x-python",
   "name": "python",
   "nbconvert_exporter": "python",
   "pygments_lexer": "ipython3",
   "version": "3.11.1"
  },
  "orig_nbformat": 4
 },
 "nbformat": 4,
 "nbformat_minor": 2
}
