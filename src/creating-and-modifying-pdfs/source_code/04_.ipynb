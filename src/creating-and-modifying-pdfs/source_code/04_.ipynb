{
 "cells": [
  {
   "attachments": {},
   "cell_type": "markdown",
   "metadata": {},
   "source": [
    "# Girando e cortando páginas PDF compypdf"
   ]
  },
  {
   "cell_type": "code",
   "execution_count": 15,
   "metadata": {},
   "outputs": [],
   "source": [
    "from pathlib import Path\n",
    "from pypdf import PdfReader, PdfWriter\n",
    "import copy"
   ]
  },
  {
   "cell_type": "code",
   "execution_count": 5,
   "metadata": {},
   "outputs": [
    {
     "name": "stdout",
     "output_type": "stream",
     "text": [
      "-90\n",
      "0\n"
     ]
    },
    {
     "data": {
      "text/plain": [
       "(True, <_io.FileIO [closed]>)"
      ]
     },
     "execution_count": 5,
     "metadata": {},
     "output_type": "execute_result"
    }
   ],
   "source": [
    "pdf_path = (\n",
    "    Path.cwd().parent\n",
    "    / \"practice_files\"\n",
    "    / \"ugly.pdf\"\n",
    ")\n",
    "\n",
    "pdf_reader = PdfReader(pdf_path)\n",
    "pdf_writer = PdfWriter()\n",
    "\n",
    "for i, page in enumerate(pdf_reader.pages):\n",
    "    if i % 2 == 0:\n",
    "        page.rotate(90)\n",
    "    pdf_writer.add_page(page)\n",
    "\n",
    "pdf_writer.write(\"ugly_rotated.pdf\")\n",
    "\n",
    "pdf_reader = PdfReader(pdf_path)\n",
    "\n",
    "first_page = pdf_reader.pages[0]\n",
    "print(first_page.rotation)\n",
    "\n",
    "second_page = pdf_reader.pages[1]\n",
    "print(second_page.rotation)\n",
    "\n",
    "pdf_reader = PdfReader(pdf_path)\n",
    "pdf_writer = PdfWriter()\n",
    "\n",
    "for page in pdf_reader.pages:\n",
    "    if page.rotation != 0:\n",
    "        page.rotate(-page.rotation)\n",
    "    pdf_writer.add_page(page)\n",
    "\n",
    "pdf_writer.write(\"ugly_rotated2.pdf\")\n"
   ]
  },
  {
   "attachments": {},
   "cell_type": "markdown",
   "metadata": {},
   "source": [
    "# Recortando Páginas ComRectangleObject"
   ]
  },
  {
   "cell_type": "code",
   "execution_count": 10,
   "metadata": {},
   "outputs": [],
   "source": [
    "pdf_path = (\n",
    "    Path.cwd().parent\n",
    "    / \"practice_files\"\n",
    "    / \"half_and_half.pdf\"\n",
    ")\n",
    "pdf_reader = PdfReader(pdf_path)\n",
    "first_page = pdf_reader.pages[0]"
   ]
  },
  {
   "cell_type": "code",
   "execution_count": 11,
   "metadata": {},
   "outputs": [
    {
     "name": "stdout",
     "output_type": "stream",
     "text": [
      "RectangleObject([0.0, 0.0, 792, 612])\n",
      "(0.0, 0.0)\n",
      "(792, 0.0)\n",
      "(0.0, 612)\n",
      "(792, 612)\n",
      "792\n",
      "612\n",
      "(0.0, 480)\n",
      "(792, 480)\n"
     ]
    }
   ],
   "source": [
    "print(first_page.mediabox)\n",
    "print(first_page.mediabox.lower_left)\n",
    "print(first_page.mediabox.lower_right)\n",
    "print(first_page.mediabox.upper_left)\n",
    "print(first_page.mediabox.upper_right)\n",
    "\n",
    "print(first_page.mediabox.upper_right[0])\n",
    "print(first_page.mediabox.upper_right[1])\n",
    "\n",
    "first_page.mediabox.upper_left = [0, 480]\n",
    "print(first_page.mediabox.upper_left)\n",
    "print(first_page.mediabox.upper_right)"
   ]
  },
  {
   "cell_type": "code",
   "execution_count": 14,
   "metadata": {},
   "outputs": [],
   "source": [
    "pdf_writer = PdfWriter()\n",
    "pdf_writer.add_page(first_page)\n",
    "pdf_writer.write(\"cropped_page.pdf\")\n",
    "pdf_reader = PdfReader(pdf_path)\n",
    "pdf_writer = PdfWriter()\n",
    "first_page = pdf_reader.pages[0]"
   ]
  },
  {
   "cell_type": "code",
   "execution_count": 16,
   "metadata": {},
   "outputs": [
    {
     "data": {
      "text/plain": [
       "(True, <_io.FileIO [closed]>)"
      ]
     },
     "execution_count": 16,
     "metadata": {},
     "output_type": "execute_result"
    }
   ],
   "source": [
    "left_side = copy.deepcopy(first_page)\n",
    "current_coords = left_side.mediabox.upper_right\n",
    "new_coords = [current_coords[0] / 2, current_coords[1]]\n",
    "left_side.mediabox.upper_right = new_coords\n",
    "\n",
    "right_side = copy.deepcopy(first_page)\n",
    "right_side.mediabox.upper_left = new_coords\n",
    "\n",
    "pdf_writer.add_page(left_side)\n",
    "pdf_writer.add_page(right_side)\n",
    "pdf_writer.write(\"cropped_pages.pdf\")\n"
   ]
  }
 ],
 "metadata": {
  "kernelspec": {
   "display_name": ".venv",
   "language": "python",
   "name": "python3"
  },
  "language_info": {
   "codemirror_mode": {
    "name": "ipython",
    "version": 3
   },
   "file_extension": ".py",
   "mimetype": "text/x-python",
   "name": "python",
   "nbconvert_exporter": "python",
   "pygments_lexer": "ipython3",
   "version": "3.11.1"
  },
  "orig_nbformat": 4
 },
 "nbformat": 4,
 "nbformat_minor": 2
}
