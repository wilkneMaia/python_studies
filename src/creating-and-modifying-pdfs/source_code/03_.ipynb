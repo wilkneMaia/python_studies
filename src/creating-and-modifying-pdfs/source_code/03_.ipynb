{
 "cells": [
  {
   "attachments": {},
   "cell_type": "markdown",
   "metadata": {},
   "source": [
    "# Concatenando e mesclando arquivos PdfMerger"
   ]
  },
  {
   "cell_type": "code",
   "execution_count": 2,
   "metadata": {},
   "outputs": [],
   "source": [
    "from pypdf import PdfMerger\n",
    "\n",
    "pdf_merger = PdfMerger()"
   ]
  },
  {
   "attachments": {},
   "cell_type": "markdown",
   "metadata": {},
   "source": [
    "### Concatenando PDFs Com.append()"
   ]
  },
  {
   "cell_type": "code",
   "execution_count": 11,
   "metadata": {},
   "outputs": [],
   "source": [
    "from pathlib import Path\n",
    "\n",
    "reports_dir = (\n",
    "    Path.cwd().parent\n",
    "    / \"practice_files\"\n",
    "    / \"expense_reports\"\n",
    ")"
   ]
  },
  {
   "cell_type": "code",
   "execution_count": 12,
   "metadata": {},
   "outputs": [
    {
     "name": "stdout",
     "output_type": "stream",
     "text": [
      "Expense report 1.pdf\n",
      "Expense report 3.pdf\n",
      "Expense report 2.pdf\n"
     ]
    }
   ],
   "source": [
    "for path in reports_dir.glob(\"*.pdf\"):\n",
    "    print(path.name)"
   ]
  },
  {
   "cell_type": "code",
   "execution_count": 14,
   "metadata": {},
   "outputs": [
    {
     "name": "stdout",
     "output_type": "stream",
     "text": [
      "Expense report 1.pdf\n",
      "Expense report 2.pdf\n",
      "Expense report 3.pdf\n"
     ]
    }
   ],
   "source": [
    "expense_reports = sorted(reports_dir.glob(\"*.pdf\"))\n",
    "for path in expense_reports:\n",
    "    print(path.name)"
   ]
  },
  {
   "cell_type": "code",
   "execution_count": 15,
   "metadata": {},
   "outputs": [],
   "source": [
    "pdf_merger = PdfMerger()\n",
    "\n",
    "for path in expense_reports:\n",
    "    pdf_merger.append(path)\n",
    "\n",
    "pdf_merger.write(\"expense_reports.pdf\")"
   ]
  },
  {
   "attachments": {},
   "cell_type": "markdown",
   "metadata": {},
   "source": [
    "### Mesclando PDFs Com.merge()"
   ]
  },
  {
   "cell_type": "code",
   "execution_count": 16,
   "metadata": {},
   "outputs": [],
   "source": [
    "from pathlib import Path\n",
    "from pypdf import PdfMerger\n",
    "\n",
    "report_dir = (\n",
    "    Path.cwd().parent\n",
    "    / \"practice_files\"\n",
    "    / \"quarterly_report\"\n",
    ")\n",
    "\n",
    "report_path = report_dir / \"report.pdf\"\n",
    "toc_path = report_dir / \"toc.pdf\"\n",
    "\n",
    "pdf_merger = PdfMerger()\n",
    "pdf_merger.append(report_path)\n",
    "\n",
    "pdf_merger.merge(1, toc_path)\n",
    "\n",
    "pdf_merger.write(\"full_report.pdf\")\n"
   ]
  }
 ],
 "metadata": {
  "kernelspec": {
   "display_name": ".venv",
   "language": "python",
   "name": "python3"
  },
  "language_info": {
   "codemirror_mode": {
    "name": "ipython",
    "version": 3
   },
   "file_extension": ".py",
   "mimetype": "text/x-python",
   "name": "python",
   "nbconvert_exporter": "python",
   "pygments_lexer": "ipython3",
   "version": "3.11.1"
  },
  "orig_nbformat": 4
 },
 "nbformat": 4,
 "nbformat_minor": 2
}
