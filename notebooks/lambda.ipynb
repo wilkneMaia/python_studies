{
 "cells": [
  {
   "cell_type": "code",
   "execution_count": 2,
   "metadata": {
    "ExecuteTime": {
     "end_time": "2023-09-19T00:20:56.839110Z",
     "start_time": "2023-09-19T00:20:55.463765Z"
    }
   },
   "outputs": [],
   "source": [
    "import pandas as pd\n",
    "from PrettyColorPrinter import add_printer"
   ]
  },
  {
   "cell_type": "code",
   "execution_count": 30,
   "metadata": {},
   "outputs": [
    {
     "name": "stdout",
     "output_type": "stream",
     "text": [
      "['Lindeana', 'Maria Rita', 'Wilkne', 'Mariane', 'John Vitor']\n"
     ]
    }
   ],
   "source": [
    "l0 = ['Wilkne', 'Lindeana', 'Maria Rita', 'John Vitor', 'Mariane']\n",
    "\n",
    "# l0.sort(key=lambda x: x.split()[-1].lower())\n",
    "l0.sort(key=lambda  x: x[-1])\n",
    "print(l0)"
   ]
  },
  {
   "cell_type": "code",
   "execution_count": null,
   "metadata": {},
   "outputs": [],
   "source": [
    "l1 = ['Wilkne', 'Lindeana', 'Maria Rita', 'John Vitor', 'Mariane']\n",
    "\n"
   ]
  },
  {
   "cell_type": "code",
   "execution_count": 24,
   "metadata": {
    "ExecuteTime": {
     "end_time": "2023-09-19T00:21:00.237503Z",
     "start_time": "2023-09-19T00:20:59.628867Z"
    }
   },
   "outputs": [
    {
     "name": "stdout",
     "output_type": "stream",
     "text": [
      "\n",
      "\u001b[30m\u001b[41mindex       \u001b[0m\u001b[40m\u001b[93m█\u001b[0m\u001b[30m\u001b[41m   PassengerId  \u001b[0m\u001b[40m\u001b[93m█\u001b[0m\u001b[30m\u001b[41m   Survived  \u001b[0m\u001b[40m\u001b[93m█\u001b[0m\u001b[30m\u001b[41m   Pclass  \u001b[0m\u001b[40m\u001b[93m█\u001b[0m\u001b[30m\u001b[41m                                                  Name  \u001b[0m\u001b[40m\u001b[93m█\u001b[0m\u001b[30m\u001b[41m      Sex  \u001b[0m\u001b[40m\u001b[93m█\u001b[0m\u001b[30m\u001b[41m    Age  \u001b[0m\u001b[40m\u001b[93m█\u001b[0m\u001b[30m\u001b[41m   SibSp  \u001b[0m\u001b[40m\u001b[93m█\u001b[0m\u001b[30m\u001b[41m   Parch  \u001b[0m\u001b[40m\u001b[93m█\u001b[0m\u001b[30m\u001b[41m             Ticket  \u001b[0m\u001b[40m\u001b[93m█\u001b[0m\u001b[30m\u001b[41m      Fare  \u001b[0m\u001b[40m\u001b[93m█\u001b[0m\u001b[30m\u001b[41m   Cabin  \u001b[0m\u001b[40m\u001b[93m█\u001b[0m\u001b[30m\u001b[41m   Embarked  \u001b[0m\u001b[40m\u001b[93m█\u001b[0m\n",
      "\u001b[46m\u001b[30m 0          \u001b[0m\u001b[40m\u001b[34m█\u001b[0m\u001b[40m\u001b[93m   1            \u001b[0m\u001b[40m\u001b[93m█\u001b[0m\u001b[40m\u001b[31m   0         \u001b[0m\u001b[40m\u001b[93m█\u001b[0m\u001b[40m\u001b[95m   3       \u001b[0m\u001b[40m\u001b[93m█\u001b[0m\u001b[40m\u001b[33m   Braund, Mr. Owen Harris                              \u001b[0m\u001b[40m\u001b[93m█\u001b[0m\u001b[40m\u001b[91m   male    \u001b[0m\u001b[40m\u001b[93m█\u001b[0m\u001b[40m\u001b[92m   22.0  \u001b[0m\u001b[40m\u001b[93m█\u001b[0m\u001b[40m\u001b[96m   1      \u001b[0m\u001b[40m\u001b[93m█\u001b[0m\u001b[40m\u001b[94m   0      \u001b[0m\u001b[40m\u001b[93m█\u001b[0m\u001b[40m\u001b[93m   A/5 21171         \u001b[0m\u001b[40m\u001b[93m█\u001b[0m\u001b[40m\u001b[31m   7.25     \u001b[0m\u001b[40m\u001b[93m█\u001b[0m\u001b[40m\u001b[95m   nan    \u001b[0m\u001b[40m\u001b[93m█\u001b[0m\u001b[40m\u001b[33m   S         \u001b[0m\u001b[40m\u001b[93m█\u001b[0m\n",
      "\u001b[46m\u001b[30m 1          \u001b[0m\u001b[40m\u001b[34m█\u001b[0m\u001b[40m\u001b[93m   2            \u001b[0m\u001b[40m\u001b[93m█\u001b[0m\u001b[40m\u001b[31m   1         \u001b[0m\u001b[40m\u001b[93m█\u001b[0m\u001b[40m\u001b[95m   1       \u001b[0m\u001b[40m\u001b[93m█\u001b[0m\u001b[40m\u001b[33m   Cumings, Mrs. John Bradley (Florence Briggs Thayer)  \u001b[0m\u001b[40m\u001b[93m█\u001b[0m\u001b[40m\u001b[91m   female  \u001b[0m\u001b[40m\u001b[93m█\u001b[0m\u001b[40m\u001b[92m   38.0  \u001b[0m\u001b[40m\u001b[93m█\u001b[0m\u001b[40m\u001b[96m   1      \u001b[0m\u001b[40m\u001b[93m█\u001b[0m\u001b[40m\u001b[94m   0      \u001b[0m\u001b[40m\u001b[93m█\u001b[0m\u001b[40m\u001b[93m   PC 17599          \u001b[0m\u001b[40m\u001b[93m█\u001b[0m\u001b[40m\u001b[31m   71.2833  \u001b[0m\u001b[40m\u001b[93m█\u001b[0m\u001b[40m\u001b[95m   C85    \u001b[0m\u001b[40m\u001b[93m█\u001b[0m\u001b[40m\u001b[33m   C         \u001b[0m\u001b[40m\u001b[93m█\u001b[0m\n",
      "\u001b[46m\u001b[30m 2          \u001b[0m\u001b[40m\u001b[34m█\u001b[0m\u001b[40m\u001b[93m   3            \u001b[0m\u001b[40m\u001b[93m█\u001b[0m\u001b[40m\u001b[31m   1         \u001b[0m\u001b[40m\u001b[93m█\u001b[0m\u001b[40m\u001b[95m   3       \u001b[0m\u001b[40m\u001b[93m█\u001b[0m\u001b[40m\u001b[33m   Heikkinen, Miss. Laina                               \u001b[0m\u001b[40m\u001b[93m█\u001b[0m\u001b[40m\u001b[91m   female  \u001b[0m\u001b[40m\u001b[93m█\u001b[0m\u001b[40m\u001b[92m   26.0  \u001b[0m\u001b[40m\u001b[93m█\u001b[0m\u001b[40m\u001b[96m   0      \u001b[0m\u001b[40m\u001b[93m█\u001b[0m\u001b[40m\u001b[94m   0      \u001b[0m\u001b[40m\u001b[93m█\u001b[0m\u001b[40m\u001b[93m   STON/O2. 3101282  \u001b[0m\u001b[40m\u001b[93m█\u001b[0m\u001b[40m\u001b[31m   7.925    \u001b[0m\u001b[40m\u001b[93m█\u001b[0m\u001b[40m\u001b[95m   nan    \u001b[0m\u001b[40m\u001b[93m█\u001b[0m\u001b[40m\u001b[33m   S         \u001b[0m\u001b[40m\u001b[93m█\u001b[0m\n",
      "\u001b[46m\u001b[30m 3          \u001b[0m\u001b[40m\u001b[34m█\u001b[0m\u001b[40m\u001b[93m   4            \u001b[0m\u001b[40m\u001b[93m█\u001b[0m\u001b[40m\u001b[31m   1         \u001b[0m\u001b[40m\u001b[93m█\u001b[0m\u001b[40m\u001b[95m   1       \u001b[0m\u001b[40m\u001b[93m█\u001b[0m\u001b[40m\u001b[33m   Futrelle, Mrs. Jacques Heath (Lily May Peel)         \u001b[0m\u001b[40m\u001b[93m█\u001b[0m\u001b[40m\u001b[91m   female  \u001b[0m\u001b[40m\u001b[93m█\u001b[0m\u001b[40m\u001b[92m   35.0  \u001b[0m\u001b[40m\u001b[93m█\u001b[0m\u001b[40m\u001b[96m   1      \u001b[0m\u001b[40m\u001b[93m█\u001b[0m\u001b[40m\u001b[94m   0      \u001b[0m\u001b[40m\u001b[93m█\u001b[0m\u001b[40m\u001b[93m   113803            \u001b[0m\u001b[40m\u001b[93m█\u001b[0m\u001b[40m\u001b[31m   53.1     \u001b[0m\u001b[40m\u001b[93m█\u001b[0m\u001b[40m\u001b[95m   C123   \u001b[0m\u001b[40m\u001b[93m█\u001b[0m\u001b[40m\u001b[33m   S         \u001b[0m\u001b[40m\u001b[93m█\u001b[0m\n",
      "\u001b[46m\u001b[30m 4          \u001b[0m\u001b[40m\u001b[34m█\u001b[0m\u001b[40m\u001b[93m   5            \u001b[0m\u001b[40m\u001b[93m█\u001b[0m\u001b[40m\u001b[31m   0         \u001b[0m\u001b[40m\u001b[93m█\u001b[0m\u001b[40m\u001b[95m   3       \u001b[0m\u001b[40m\u001b[93m█\u001b[0m\u001b[40m\u001b[33m   Allen, Mr. William Henry                             \u001b[0m\u001b[40m\u001b[93m█\u001b[0m\u001b[40m\u001b[91m   male    \u001b[0m\u001b[40m\u001b[93m█\u001b[0m\u001b[40m\u001b[92m   35.0  \u001b[0m\u001b[40m\u001b[93m█\u001b[0m\u001b[40m\u001b[96m   0      \u001b[0m\u001b[40m\u001b[93m█\u001b[0m\u001b[40m\u001b[94m   0      \u001b[0m\u001b[40m\u001b[93m█\u001b[0m\u001b[40m\u001b[93m   373450            \u001b[0m\u001b[40m\u001b[93m█\u001b[0m\u001b[40m\u001b[31m   8.05     \u001b[0m\u001b[40m\u001b[93m█\u001b[0m\u001b[40m\u001b[95m   nan    \u001b[0m\u001b[40m\u001b[93m█\u001b[0m\u001b[40m\u001b[33m   S         \u001b[0m\u001b[40m\u001b[93m█\u001b[0m\n",
      "\u001b[30m\u001b[41mindex           \u001b[0m\u001b[40m\u001b[93m█\u001b[0m\u001b[30m\u001b[41m   rows  \u001b[0m\u001b[40m\u001b[93m█\u001b[0m\u001b[30m\u001b[41m   columns  \u001b[0m\u001b[40m\u001b[93m█\u001b[0m\n",
      "\u001b[46m\u001b[30m DataFrame      \u001b[0m\u001b[40m\u001b[34m█\u001b[0m\u001b[40m\u001b[93m   5     \u001b[0m\u001b[40m\u001b[93m█\u001b[0m\u001b[40m\u001b[31m   12       \u001b[0m\u001b[40m\u001b[93m█\u001b[0m\n"
     ]
    },
    {
     "data": {
      "text/html": [
       "<div>\n",
       "<style scoped>\n",
       "    .dataframe tbody tr th:only-of-type {\n",
       "        vertical-align: middle;\n",
       "    }\n",
       "\n",
       "    .dataframe tbody tr th {\n",
       "        vertical-align: top;\n",
       "    }\n",
       "\n",
       "    .dataframe thead th {\n",
       "        text-align: right;\n",
       "    }\n",
       "</style>\n",
       "<table border=\"1\" class=\"dataframe\">\n",
       "  <thead>\n",
       "    <tr style=\"text-align: right;\">\n",
       "      <th></th>\n",
       "      <th>PassengerId</th>\n",
       "      <th>Survived</th>\n",
       "      <th>Pclass</th>\n",
       "      <th>Name</th>\n",
       "      <th>Sex</th>\n",
       "      <th>Age</th>\n",
       "      <th>SibSp</th>\n",
       "      <th>Parch</th>\n",
       "      <th>Ticket</th>\n",
       "      <th>Fare</th>\n",
       "      <th>Cabin</th>\n",
       "      <th>Embarked</th>\n",
       "    </tr>\n",
       "  </thead>\n",
       "  <tbody>\n",
       "    <tr>\n",
       "      <th>0</th>\n",
       "      <td>1</td>\n",
       "      <td>0</td>\n",
       "      <td>3</td>\n",
       "      <td>Braund, Mr. Owen Harris</td>\n",
       "      <td>male</td>\n",
       "      <td>22.0</td>\n",
       "      <td>1</td>\n",
       "      <td>0</td>\n",
       "      <td>A/5 21171</td>\n",
       "      <td>7.2500</td>\n",
       "      <td>NaN</td>\n",
       "      <td>S</td>\n",
       "    </tr>\n",
       "    <tr>\n",
       "      <th>1</th>\n",
       "      <td>2</td>\n",
       "      <td>1</td>\n",
       "      <td>1</td>\n",
       "      <td>Cumings, Mrs. John Bradley (Florence Briggs Th...</td>\n",
       "      <td>female</td>\n",
       "      <td>38.0</td>\n",
       "      <td>1</td>\n",
       "      <td>0</td>\n",
       "      <td>PC 17599</td>\n",
       "      <td>71.2833</td>\n",
       "      <td>C85</td>\n",
       "      <td>C</td>\n",
       "    </tr>\n",
       "    <tr>\n",
       "      <th>2</th>\n",
       "      <td>3</td>\n",
       "      <td>1</td>\n",
       "      <td>3</td>\n",
       "      <td>Heikkinen, Miss. Laina</td>\n",
       "      <td>female</td>\n",
       "      <td>26.0</td>\n",
       "      <td>0</td>\n",
       "      <td>0</td>\n",
       "      <td>STON/O2. 3101282</td>\n",
       "      <td>7.9250</td>\n",
       "      <td>NaN</td>\n",
       "      <td>S</td>\n",
       "    </tr>\n",
       "    <tr>\n",
       "      <th>3</th>\n",
       "      <td>4</td>\n",
       "      <td>1</td>\n",
       "      <td>1</td>\n",
       "      <td>Futrelle, Mrs. Jacques Heath (Lily May Peel)</td>\n",
       "      <td>female</td>\n",
       "      <td>35.0</td>\n",
       "      <td>1</td>\n",
       "      <td>0</td>\n",
       "      <td>113803</td>\n",
       "      <td>53.1000</td>\n",
       "      <td>C123</td>\n",
       "      <td>S</td>\n",
       "    </tr>\n",
       "    <tr>\n",
       "      <th>4</th>\n",
       "      <td>5</td>\n",
       "      <td>0</td>\n",
       "      <td>3</td>\n",
       "      <td>Allen, Mr. William Henry</td>\n",
       "      <td>male</td>\n",
       "      <td>35.0</td>\n",
       "      <td>0</td>\n",
       "      <td>0</td>\n",
       "      <td>373450</td>\n",
       "      <td>8.0500</td>\n",
       "      <td>NaN</td>\n",
       "      <td>S</td>\n",
       "    </tr>\n",
       "  </tbody>\n",
       "</table>\n",
       "</div>"
      ],
      "text/plain": []
     },
     "execution_count": 24,
     "metadata": {},
     "output_type": "execute_result"
    }
   ],
   "source": [
    "df = pd.read_csv('https://github.com/pandas-dev/pandas/raw/main/doc/data/titanic.csv')\n",
    "add_printer(1)\n",
    "df.head()"
   ]
  },
  {
   "cell_type": "code",
   "execution_count": 25,
   "metadata": {
    "collapsed": false
   },
   "outputs": [
    {
     "name": "stdout",
     "output_type": "stream",
     "text": [
      "\n",
      "\u001b[30m\u001b[41mindex       \u001b[0m\u001b[40m\u001b[93m█\u001b[0m\u001b[30m\u001b[41m                                                              0  \u001b[0m\u001b[40m\u001b[93m█\u001b[0m\n",
      "\u001b[46m\u001b[30m 0          \u001b[0m\u001b[40m\u001b[34m█\u001b[0m\u001b[40m\u001b[93m   Braund, Mr. Owen Harris - male                                \u001b[0m\u001b[40m\u001b[93m█\u001b[0m\n",
      "\u001b[46m\u001b[30m 1          \u001b[0m\u001b[40m\u001b[34m█\u001b[0m\u001b[40m\u001b[93m   Cumings, Mrs. John Bradley (Florence Briggs Thayer) - female  \u001b[0m\u001b[40m\u001b[93m█\u001b[0m\n",
      "\u001b[46m\u001b[30m 2          \u001b[0m\u001b[40m\u001b[34m█\u001b[0m\u001b[40m\u001b[93m   Heikkinen, Miss. Laina - female                               \u001b[0m\u001b[40m\u001b[93m█\u001b[0m\n",
      "\u001b[46m\u001b[30m 3          \u001b[0m\u001b[40m\u001b[34m█\u001b[0m\u001b[40m\u001b[93m   Futrelle, Mrs. Jacques Heath (Lily May Peel) - female         \u001b[0m\u001b[40m\u001b[93m█\u001b[0m\n",
      "\u001b[46m\u001b[30m 4          \u001b[0m\u001b[40m\u001b[34m█\u001b[0m\u001b[40m\u001b[93m   Allen, Mr. William Henry - male                               \u001b[0m\u001b[40m\u001b[93m█\u001b[0m\n",
      "\u001b[30m\u001b[41mindex        \u001b[0m\u001b[40m\u001b[93m█\u001b[0m\u001b[30m\u001b[41m   rows  \u001b[0m\u001b[40m\u001b[93m█\u001b[0m\n",
      "\u001b[46m\u001b[30m Series      \u001b[0m\u001b[40m\u001b[34m█\u001b[0m\u001b[40m\u001b[93m   5     \u001b[0m\u001b[40m\u001b[93m█\u001b[0m\n"
     ]
    },
    {
     "data": {
      "text/plain": []
     },
     "execution_count": 25,
     "metadata": {},
     "output_type": "execute_result"
    }
   ],
   "source": [
    "l1 = df.apply(lambda x:str(x['Name']) + ' - ' + str(x['Sex']), axis=1)\n",
    "l1.head()"
   ]
  }
 ],
 "metadata": {
  "kernelspec": {
   "display_name": ".venv",
   "language": "python",
   "name": "python3"
  },
  "language_info": {
   "codemirror_mode": {
    "name": "ipython",
    "version": 3
   },
   "file_extension": ".py",
   "mimetype": "text/x-python",
   "name": "python",
   "nbconvert_exporter": "python",
   "pygments_lexer": "ipython3",
   "version": "3.11.1"
  },
  "orig_nbformat": 4
 },
 "nbformat": 4,
 "nbformat_minor": 2
}
