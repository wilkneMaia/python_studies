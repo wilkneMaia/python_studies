{
 "cells": [
  {
   "cell_type": "code",
   "execution_count": 9,
   "metadata": {},
   "outputs": [
    {
     "name": "stdout",
     "output_type": "stream",
     "text": [
      "{'a': 1, 'b': 2, 'c': 3}\n"
     ]
    }
   ],
   "source": [
    "d0 = {\n",
    "    'a': 1,\n",
    "    'b': 2,\n",
    "    'c': 3,\n",
    "}\n",
    "print(d0)"
   ]
  },
  {
   "cell_type": "code",
   "execution_count": 10,
   "metadata": {},
   "outputs": [
    {
     "name": "stdout",
     "output_type": "stream",
     "text": [
      "{'v1': {'a': 1, 'b': 2, 'c': 3}, 'v2': {'d': 4, 'e': 5, 'f': 6}}\n"
     ]
    }
   ],
   "source": [
    "d1 = {\n",
    "    'v1': {\n",
    "        'a': 1,\n",
    "        'b': 2,\n",
    "        'c': 3,\n",
    "    },\n",
    "    'v2': {\n",
    "        'd': 4,\n",
    "        'e': 5,\n",
    "        'f': 6,\n",
    "    }\n",
    "}\n",
    "print(d1)"
   ]
  },
  {
   "cell_type": "code",
   "execution_count": 13,
   "metadata": {},
   "outputs": [
    {
     "name": "stdout",
     "output_type": "stream",
     "text": [
      "{'v1': {'a': 1, 'b': 2, 'c': 3}, 'v2': {'d': 4, 'e': 5, 'f': 6}}\n"
     ]
    }
   ],
   "source": [
    "d2 = dict(\n",
    "    a = 1,\n",
    "    b = 2,\n",
    "    c = 3,\n",
    ")\n",
    "print(d2)"
   ]
  },
  {
   "cell_type": "code",
   "execution_count": 20,
   "metadata": {},
   "outputs": [
    {
     "name": "stdout",
     "output_type": "stream",
     "text": [
      "{'v1': {'a': 1, 'b': 2, 'c': 3}, 'v2': {'d': 4, 'e': 5, 'f': 6}}\n"
     ]
    }
   ],
   "source": [
    "d3 = dict(\n",
    "    d2.items()\n",
    ")\n",
    "print(d3)"
   ]
  },
  {
   "cell_type": "code",
   "execution_count": 21,
   "metadata": {},
   "outputs": [
    {
     "name": "stdout",
     "output_type": "stream",
     "text": [
      "{'v1': {'a': 1, 'b': 2, 'c': 3}, 'v2': {'d': 4, 'e': 5, 'f': 6}}\n"
     ]
    }
   ],
   "source": [
    "d4 = dict(\n",
    "    v1 = dict(a = 1, b = 2, c = 3),\n",
    "    v2 = dict(d = 4, e = 5, f = 6),\n",
    ")\n",
    "print(d4)"
   ]
  },
  {
   "cell_type": "code",
   "execution_count": 34,
   "metadata": {},
   "outputs": [
    {
     "name": "stdout",
     "output_type": "stream",
     "text": [
      "{'a': 1, 'b': 32, 'c': 3}\n"
     ]
    }
   ],
   "source": [
    "d5 = dict(\n",
    "        (\n",
    "            (\"a\", 1),(\"b\", 32),(\"c\", 3)\n",
    "        )\n",
    "    )\n",
    "print(d5)"
   ]
  },
  {
   "cell_type": "code",
   "execution_count": 36,
   "metadata": {},
   "outputs": [
    {
     "name": "stdout",
     "output_type": "stream",
     "text": [
      "{'v1': {'a': 1, 'b': 32, 'c': 3}, 'v2': {'d': 4, 'e': 5, 'f': 6}}\n"
     ]
    }
   ],
   "source": [
    "d6 = dict(\n",
    "    v1 = dict(((\"a\", 1),(\"b\", 32),(\"c\", 3))),\n",
    "    v2 = dict(((\"d\", 4),(\"e\", 5),(\"f\", 6))),\n",
    ")\n",
    "print(d6)"
   ]
  },
  {
   "cell_type": "code",
   "execution_count": 38,
   "metadata": {},
   "outputs": [
    {
     "name": "stdout",
     "output_type": "stream",
     "text": [
      "{'a': 1, 'b': 32, 'c': 3}\n"
     ]
    }
   ],
   "source": [
    "d7 = {\n",
    "    key: value for key, value in ((\"a\", 1),(\"b\", 32),(\"c\", 3))\n",
    "}\n",
    "print(d7)"
   ]
  },
  {
   "cell_type": "code",
   "execution_count": 39,
   "metadata": {},
   "outputs": [
    {
     "name": "stdout",
     "output_type": "stream",
     "text": [
      "{'v1': {('b', 32), ('a', 1), ('c', 3)}, 'v2': {('d', 4), ('f', 6), ('e', 5)}}\n"
     ]
    }
   ],
   "source": [
    "d8 = {\n",
    "    \"v1\": {\n",
    "        (\"a\", 1),(\"b\", 32),(\"c\", 3)\n",
    "    },\n",
    "    \"v2\": {\n",
    "        (\"d\", 4),(\"e\", 5),(\"f\", 6)\n",
    "    }\n",
    "}\n",
    "print(d8)"
   ]
  },
  {
   "cell_type": "code",
   "execution_count": 45,
   "metadata": {},
   "outputs": [
    {
     "name": "stdout",
     "output_type": "stream",
     "text": [
      "{'a': 1, 'b': 2, 'c': 3}\n"
     ]
    }
   ],
   "source": [
    "d9 = dict(\n",
    "    zip(\n",
    "        (\"a\", \"b\", \"c\"), (1, 2, 3)\n",
    "    )\n",
    ")\n",
    "print(d9)"
   ]
  },
  {
   "cell_type": "code",
   "execution_count": 46,
   "metadata": {},
   "outputs": [
    {
     "name": "stdout",
     "output_type": "stream",
     "text": [
      "{'v1': {'a': 1, 'b': 2, 'c': 3}, 'v2': {'d': 4, 'e': 5, 'f': 6}}\n"
     ]
    }
   ],
   "source": [
    "d10 = dict(\n",
    "    zip(\n",
    "        (\"v1\", \"v2\"), \n",
    "        (\n",
    "            dict(zip((\"a\", \"b\", \"c\"), (1, 2, 3))),\n",
    "            dict(zip((\"d\", \"e\", \"f\"), (4, 5, 6))),\n",
    "        )\n",
    "    )\n",
    ")\n",
    "print(d10)"
   ]
  },
  {
   "cell_type": "code",
   "execution_count": 48,
   "metadata": {},
   "outputs": [
    {
     "name": "stdout",
     "output_type": "stream",
     "text": [
      "{'a': 1, 'b': 2, 'c': 3}\n"
     ]
    }
   ],
   "source": [
    "d11 = dict(\n",
    "    map(lambda key, value: (key, value), (\"a\", \"b\", \"c\"), (1, 2, 3))\n",
    ")\n",
    "print(d11)"
   ]
  },
  {
   "cell_type": "code",
   "execution_count": 49,
   "metadata": {},
   "outputs": [],
   "source": [
    "exec(\n",
    "    \"d12 = dict(a = 1, b = 2, c = 3)\", locals()\n",
    ")"
   ]
  },
  {
   "cell_type": "code",
   "execution_count": 52,
   "metadata": {},
   "outputs": [
    {
     "name": "stdout",
     "output_type": "stream",
     "text": [
      "{'a': 1, 'b': 2, 'c': 3, 'd': '4'}\n"
     ]
    }
   ],
   "source": [
    "d14 = eval(\n",
    "    # \"dict(a = 1, b = 2, c = 3, d = 4)\"\n",
    "    \"\"\"{'a': 1, 'b': 2, 'c': 3, 'd': '4'}\"\"\"\n",
    ")\n",
    "print(d14)"
   ]
  },
  {
   "cell_type": "code",
   "execution_count": 54,
   "metadata": {},
   "outputs": [
    {
     "name": "stdout",
     "output_type": "stream",
     "text": [
      "{'a': 1, 'b': 2, 'c': 3, 'd': '4'}\n"
     ]
    }
   ],
   "source": [
    "from ast import literal_eval\n",
    "\n",
    "d15 = literal_eval(\n",
    "    # \"{'a': 1, 'b': 2, 'c': 3, 'd': '4'}\"\n",
    "    \"\"\"{'a': 1, 'b': 2, 'c': 3, 'd': '4'}\"\"\"\n",
    ")\n",
    "print(d15)"
   ]
  },
  {
   "cell_type": "code",
   "execution_count": 55,
   "metadata": {},
   "outputs": [
    {
     "name": "stdout",
     "output_type": "stream",
     "text": [
      "{'a': 1, 'b': 2, 'c': 3, 'd': '4'}\n"
     ]
    }
   ],
   "source": [
    "import json\n",
    "\n",
    "d16 = json.loads(\n",
    "    r\"\"\"{\"a\": 1, \"b\": 2, \"c\": 3, \"d\": \"4\"}\"\"\"\n",
    ")\n",
    "print(d16)"
   ]
  }
 ],
 "metadata": {
  "kernelspec": {
   "display_name": ".venv",
   "language": "python",
   "name": "python3"
  },
  "language_info": {
   "codemirror_mode": {
    "name": "ipython",
    "version": 3
   },
   "file_extension": ".py",
   "mimetype": "text/x-python",
   "name": "python",
   "nbconvert_exporter": "python",
   "pygments_lexer": "ipython3",
   "version": "3.11.1"
  },
  "orig_nbformat": 4
 },
 "nbformat": 4,
 "nbformat_minor": 2
}
