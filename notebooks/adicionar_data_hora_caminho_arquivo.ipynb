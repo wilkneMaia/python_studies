{
 "cells": [
  {
   "cell_type": "code",
   "execution_count": 1,
   "outputs": [],
   "source": [
    "from time import strftime\n",
    "import os, pathlib"
   ],
   "metadata": {
    "collapsed": false
   }
  },
  {
   "cell_type": "code",
   "execution_count": 4,
   "outputs": [],
   "source": [
    "def st(path, last=True, sep=\"#\"):\n",
    "    p = pathlib.Path(path)\n",
    "    sta = strftime(\"%Y_%m_%d_%H_%M_%S\")\n",
    "    fname = f\"{sta}{sep}{p.stem}\" if last else f\"{p.stem}{sep}{sta}\"\n",
    "    fname += p.suffix\n",
    "    return os.path.normpath(f\"{os.sep}\".join(list(p.parts[:-1] + (fname,))))"
   ],
   "metadata": {
    "collapsed": false
   }
  }
 ],
 "metadata": {
  "kernelspec": {
   "display_name": "Python 3",
   "language": "python",
   "name": "python3"
  },
  "language_info": {
   "codemirror_mode": {
    "name": "ipython",
    "version": 2
   },
   "file_extension": ".py",
   "mimetype": "text/x-python",
   "name": "python",
   "nbconvert_exporter": "python",
   "pygments_lexer": "ipython2",
   "version": "2.7.6"
  }
 },
 "nbformat": 4,
 "nbformat_minor": 0
}
